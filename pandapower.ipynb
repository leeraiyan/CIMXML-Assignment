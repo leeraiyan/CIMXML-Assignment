{
 "cells": [
  {
   "cell_type": "code",
   "execution_count": 1,
   "metadata": {},
   "outputs": [
    {
     "name": "stderr",
     "output_type": "stream",
     "text": [
      "Failed running a powerflow.\n",
      "No reference bus is available. Either add an ext_grid or a gen with slack=True\n",
      "Traceback (most recent call last):\n",
      "  File \"c:\\Users\\raiya\\anaconda3\\lib\\site-packages\\pandapower\\converter\\cim\\cim2pp\\build_pp_net.py\", line 1991, in convert_to_pp\n",
      "    pp.runpp(self.net)\n",
      "  File \"c:\\Users\\raiya\\anaconda3\\lib\\site-packages\\pandapower\\run.py\", line 241, in runpp\n",
      "    _powerflow(net, **kwargs)\n",
      "  File \"c:\\Users\\raiya\\anaconda3\\lib\\site-packages\\pandapower\\powerflow.py\", line 75, in _powerflow\n",
      "    ppc, ppci = _pd2ppc(net)\n",
      "  File \"c:\\Users\\raiya\\anaconda3\\lib\\site-packages\\pandapower\\pd2ppc.py\", line 155, in _pd2ppc\n",
      "    _check_for_reference_bus(ppc)\n",
      "  File \"c:\\Users\\raiya\\anaconda3\\lib\\site-packages\\pandapower\\build_gen.py\", line 322, in _check_for_reference_bus\n",
      "    raise UserWarning(\"No reference bus is available. Either add an ext_grid or a gen with slack=True\")\n",
      "UserWarning: No reference bus is available. Either add an ext_grid or a gen with slack=True\n"
     ]
    },
    {
     "name": "stdout",
     "output_type": "stream",
     "text": [
      "Conversion successful\n"
     ]
    }
   ],
   "source": [
    "import os\n",
    "import pandapower as pp\n",
    "from pandapower.converter import from_cim\n",
    "\n",
    "\n",
    "# folder_path points to the directory where the CIM .zip-Files are stored:\n",
    "folder_path = os.path.join(os.getcwd())\n",
    "\n",
    "# cgmes_files is a list containing paths to both files needed for the CIM converter:\n",
    "cgmes_files = [os.path.join(folder_path, 'microgridFolder.zip')]\n",
    "\n",
    "for f in cgmes_files:\n",
    "    if not os.path.exists(f):\n",
    "        raise UserWarning(f\"Wrong path specified for the CGMES file {f}\")\n",
    "\n",
    "net = from_cim.from_cim(file_list=cgmes_files)\n",
    "\n",
    "print('Conversion successful')"
   ]
  },
  {
   "cell_type": "code",
   "execution_count": 3,
   "metadata": {},
   "outputs": [],
   "source": [
    "import pandapower.plotting as plt\n",
    "\n",
    "plt.to_html(net, \"network.html\")"
   ]
  },
  {
   "cell_type": "code",
   "execution_count": 4,
   "metadata": {},
   "outputs": [
    {
     "data": {
      "text/plain": [
       "This pandapower network includes the following parameter tables:\n",
       "   - bus (14 elements)\n",
       "   - load (3 elements)\n",
       "   - gen (1 element)\n",
       "   - switch (9 elements)\n",
       "   - shunt (2 elements)\n",
       "   - line (2 elements)\n",
       "   - trafo (3 elements)\n",
       "   - controller (2 elements)\n",
       " and the following results tables:\n",
       "   - res_bus (14 elements)\n",
       "   - res_line (2 elements)\n",
       "   - res_trafo (3 elements)\n",
       "   - res_load (3 elements)\n",
       "   - res_shunt (2 elements)\n",
       "   - res_gen (1 element)\n",
       "   - res_switch (9 elements)"
      ]
     },
     "execution_count": 4,
     "metadata": {},
     "output_type": "execute_result"
    }
   ],
   "source": [
    "net"
   ]
  }
 ],
 "metadata": {
  "kernelspec": {
   "display_name": "base",
   "language": "python",
   "name": "python3"
  },
  "language_info": {
   "codemirror_mode": {
    "name": "ipython",
    "version": 3
   },
   "file_extension": ".py",
   "mimetype": "text/x-python",
   "name": "python",
   "nbconvert_exporter": "python",
   "pygments_lexer": "ipython3",
   "version": "3.9.7"
  },
  "orig_nbformat": 4
 },
 "nbformat": 4,
 "nbformat_minor": 2
}
